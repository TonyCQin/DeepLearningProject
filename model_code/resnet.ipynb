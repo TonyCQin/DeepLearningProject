{
 "cells": [
  {
   "cell_type": "markdown",
   "id": "2ad26e6e",
   "metadata": {},
   "source": [
    "### Resnet Code"
   ]
  },
  {
   "cell_type": "code",
   "execution_count": null,
   "id": "db1b7598",
   "metadata": {},
   "outputs": [],
   "source": [
    "# arranging data to put in model\n",
    "print(\"hello world\")"
   ]
  }
 ],
 "metadata": {
  "kernelspec": {
   "display_name": ".conda",
   "language": "python",
   "name": "python3"
  },
  "language_info": {
   "name": "python",
   "version": "3.12.9"
  }
 },
 "nbformat": 4,
 "nbformat_minor": 5
}
